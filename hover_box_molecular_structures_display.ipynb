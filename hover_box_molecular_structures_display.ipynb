{
 "cells": [
  {
   "cell_type": "markdown",
   "id": "08f6e831",
   "metadata": {},
   "source": [
    "In this notebook, we will learn how to display chemical structures in a hover box using plotly/dash. As a dummy example for this, we load some structures, compute their morgan fingerprints and calculate the dissimilarity matrix based on the Tanimoto coefficients of these fingerprints. We use the dissimilarity matrix to perform multdimensionality scaling as a dimensionality reduction technique. We display the resulting embeddings and show the chemical structures in a hover box:"
   ]
  },
  {
   "cell_type": "code",
   "execution_count": 1,
   "id": "6c5046e5",
   "metadata": {},
   "outputs": [],
   "source": [
    "import pandas as pd\n",
    "import numpy as np\n",
    "from rdkit import Chem\n",
    "from rdkit.Chem import AllChem\n",
    "from rdkit.Chem import Draw\n",
    "from rdkit import DataStructs\n",
    "from jupyter_dash import JupyterDash\n",
    "import plotly.graph_objects as go\n",
    "from dash import Dash, dcc, html, Input, Output, no_update\n",
    "from sklearn.manifold import MDS"
   ]
  },
  {
   "cell_type": "code",
   "execution_count": 2,
   "id": "1f5c3260",
   "metadata": {},
   "outputs": [
    {
     "data": {
      "text/html": [
       "<div>\n",
       "<style scoped>\n",
       "    .dataframe tbody tr th:only-of-type {\n",
       "        vertical-align: middle;\n",
       "    }\n",
       "\n",
       "    .dataframe tbody tr th {\n",
       "        vertical-align: top;\n",
       "    }\n",
       "\n",
       "    .dataframe thead th {\n",
       "        text-align: right;\n",
       "    }\n",
       "</style>\n",
       "<table border=\"1\" class=\"dataframe\">\n",
       "  <thead>\n",
       "    <tr style=\"text-align: right;\">\n",
       "      <th></th>\n",
       "      <th>smiles</th>\n",
       "      <th>mol</th>\n",
       "      <th>morgan_fingerprints</th>\n",
       "    </tr>\n",
       "  </thead>\n",
       "  <tbody>\n",
       "    <tr>\n",
       "      <th>0</th>\n",
       "      <td>c1ccc2c(c1)CCCN2</td>\n",
       "      <td>&lt;rdkit.Chem.rdchem.Mol object at 0x000001C0FAD...</td>\n",
       "      <td>[0, 0, 0, 0, 0, 0, 0, 0, 0, 0, 0, 0, 0, 0, 0, ...</td>\n",
       "    </tr>\n",
       "    <tr>\n",
       "      <th>1</th>\n",
       "      <td>CNc1ccccc1</td>\n",
       "      <td>&lt;rdkit.Chem.rdchem.Mol object at 0x000001C0FAD...</td>\n",
       "      <td>[0, 0, 0, 0, 0, 0, 0, 0, 0, 0, 0, 0, 0, 0, 0, ...</td>\n",
       "    </tr>\n",
       "    <tr>\n",
       "      <th>2</th>\n",
       "      <td>c1ccc2c(c1)CCN2</td>\n",
       "      <td>&lt;rdkit.Chem.rdchem.Mol object at 0x000001C0FAD...</td>\n",
       "      <td>[0, 0, 0, 0, 0, 0, 0, 0, 0, 0, 0, 0, 0, 0, 0, ...</td>\n",
       "    </tr>\n",
       "    <tr>\n",
       "      <th>3</th>\n",
       "      <td>c1ccc2[nH]ccc2c1</td>\n",
       "      <td>&lt;rdkit.Chem.rdchem.Mol object at 0x000001C0FAD...</td>\n",
       "      <td>[0, 0, 0, 0, 0, 0, 0, 0, 0, 0, 0, 0, 0, 0, 0, ...</td>\n",
       "    </tr>\n",
       "    <tr>\n",
       "      <th>4</th>\n",
       "      <td>c1cnc2c(c1)CCCC2</td>\n",
       "      <td>&lt;rdkit.Chem.rdchem.Mol object at 0x000001C0FAD...</td>\n",
       "      <td>[0, 0, 0, 0, 0, 0, 0, 0, 0, 0, 0, 0, 0, 0, 0, ...</td>\n",
       "    </tr>\n",
       "  </tbody>\n",
       "</table>\n",
       "</div>"
      ],
      "text/plain": [
       "             smiles                                                mol  \\\n",
       "0  c1ccc2c(c1)CCCN2  <rdkit.Chem.rdchem.Mol object at 0x000001C0FAD...   \n",
       "1        CNc1ccccc1  <rdkit.Chem.rdchem.Mol object at 0x000001C0FAD...   \n",
       "2   c1ccc2c(c1)CCN2  <rdkit.Chem.rdchem.Mol object at 0x000001C0FAD...   \n",
       "3  c1ccc2[nH]ccc2c1  <rdkit.Chem.rdchem.Mol object at 0x000001C0FAD...   \n",
       "4  c1cnc2c(c1)CCCC2  <rdkit.Chem.rdchem.Mol object at 0x000001C0FAD...   \n",
       "\n",
       "                                 morgan_fingerprints  \n",
       "0  [0, 0, 0, 0, 0, 0, 0, 0, 0, 0, 0, 0, 0, 0, 0, ...  \n",
       "1  [0, 0, 0, 0, 0, 0, 0, 0, 0, 0, 0, 0, 0, 0, 0, ...  \n",
       "2  [0, 0, 0, 0, 0, 0, 0, 0, 0, 0, 0, 0, 0, 0, 0, ...  \n",
       "3  [0, 0, 0, 0, 0, 0, 0, 0, 0, 0, 0, 0, 0, 0, 0, ...  \n",
       "4  [0, 0, 0, 0, 0, 0, 0, 0, 0, 0, 0, 0, 0, 0, 0, ...  "
      ]
     },
     "execution_count": 2,
     "metadata": {},
     "output_type": "execute_result"
    }
   ],
   "source": [
    "with open(\"smiles.txt\") as file:\n",
    "    smiles = file.read().split(\"\\n\")\n",
    "\n",
    "df = pd.DataFrame(smiles, columns=[\"smiles\"])  \n",
    "df[\"mol\"] = df.smiles.apply(Chem.MolFromSmiles)\n",
    "df[\"morgan_fingerprints\"] = df.mol.apply(lambda x: AllChem.GetMorganFingerprintAsBitVect(x, radius=2))\n",
    "df.head()"
   ]
  },
  {
   "cell_type": "code",
   "execution_count": 3,
   "id": "d0bfef7a",
   "metadata": {},
   "outputs": [],
   "source": [
    "def get_dissimilarity_matrix(fingerprints):\n",
    "    n_molecules = len(fingerprints)\n",
    "    matrix = np.zeros((n_molecules, n_molecules))\n",
    "    for idx1 in range(n_molecules):\n",
    "        for idx2 in range((idx1+1), n_molecules):\n",
    "            matrix[idx2, idx1] = DataStructs.DiceSimilarity(fingerprints[idx1], fingerprints[idx2])\n",
    "    matrix = np.triu(matrix.T, 1) + matrix\n",
    "    return matrix\n",
    "\n",
    "dissimilarity_matrix = get_dissimilarity_matrix(df.morgan_fingerprints)"
   ]
  },
  {
   "cell_type": "markdown",
   "id": "f5d37e84",
   "metadata": {},
   "source": [
    "Note: the high stress value is a indication that multidimensional scaling is not able to accurately represent the dissimilarity of the molecules in just two dimensions."
   ]
  },
  {
   "cell_type": "code",
   "execution_count": 4,
   "id": "69cc776b",
   "metadata": {},
   "outputs": [
    {
     "data": {
      "text/plain": [
       "0.7720266185685115"
      ]
     },
     "execution_count": 4,
     "metadata": {},
     "output_type": "execute_result"
    }
   ],
   "source": [
    "mds = MDS(n_components=2, dissimilarity=\"precomputed\", metric=False)\n",
    "\n",
    "embeddings = mds.fit_transform(dissimilarity_matrix)\n",
    "df[\"mds_dimension1\"] = embeddings[:,0]\n",
    "df[\"mds_dimension2\"] = embeddings[:,1]\n",
    "mds.stress_"
   ]
  },
  {
   "cell_type": "code",
   "execution_count": 5,
   "id": "0188e2fb",
   "metadata": {},
   "outputs": [
    {
     "data": {
      "text/html": [
       "\n",
       "        <iframe\n",
       "            width=\"100%\"\n",
       "            height=\"650\"\n",
       "            src=\"http://127.0.0.1:8050/\"\n",
       "            frameborder=\"0\"\n",
       "            allowfullscreen\n",
       "            \n",
       "        ></iframe>\n",
       "        "
      ],
      "text/plain": [
       "<IPython.lib.display.IFrame at 0x1c0fb4e0b48>"
      ]
     },
     "metadata": {},
     "output_type": "display_data"
    }
   ],
   "source": [
    "# Save molecule images\n",
    "for count, mol in enumerate(df.mol):\n",
    "    Draw.MolToFile(mol, f\"./assets/{count}.png\")\n",
    "\n",
    "# Display    \n",
    "app = JupyterDash()\n",
    "\n",
    "fig = go.Figure(data=[\n",
    "    go.Scatter(x=df[\"mds_dimension1\"], y=df[\"mds_dimension2\"],\n",
    "               mode=\"markers\")])\n",
    "fig.update_xaxes(title_text=\"dimension 1\")\n",
    "fig.update_yaxes(title_text=\"dimension 2\")\n",
    "fig.update_traces(hoverinfo=\"none\", hovertemplate=None)\n",
    "\n",
    "app.layout = html.Div([\n",
    "    dcc.Graph(id=\"my-graph\", figure= fig, clear_on_unhover=True),\n",
    "    dcc.Tooltip(id=\"graph-tooltip\")\n",
    "])\n",
    "\n",
    "@app.callback(\n",
    "    Output(\"graph-tooltip\", \"show\"),\n",
    "    Output(\"graph-tooltip\", \"bbox\"),\n",
    "    Output(\"graph-tooltip\", \"children\"),\n",
    "    Input(\"my-graph\", \"hoverData\"))\n",
    "\n",
    "def display_hover(hoverData):\n",
    "    if hoverData is None:\n",
    "        return False, no_update, no_update\n",
    "\n",
    "    pt = hoverData[\"points\"][0]\n",
    "    bbox = pt[\"bbox\"]\n",
    "    num = pt[\"pointNumber\"]\n",
    "    img_src = f\"{num}.png\"\n",
    "\n",
    "    children = [\n",
    "        html.Div([\n",
    "            html.Img(src=app.get_asset_url(img_src), style={\"width\": \"200px\"}),\n",
    "        ], style={\"width\": \"200px\", \"white-space\": \"normal\"})\n",
    "    ]\n",
    "    return True, bbox, children\n",
    "\n",
    "app.run_server(mode=\"Inline\")"
   ]
  }
 ],
 "metadata": {
  "kernelspec": {
   "display_name": "Python 3 (ipykernel)",
   "language": "python",
   "name": "python3"
  },
  "language_info": {
   "codemirror_mode": {
    "name": "ipython",
    "version": 3
   },
   "file_extension": ".py",
   "mimetype": "text/x-python",
   "name": "python",
   "nbconvert_exporter": "python",
   "pygments_lexer": "ipython3",
   "version": "3.7.13"
  }
 },
 "nbformat": 4,
 "nbformat_minor": 5
}
